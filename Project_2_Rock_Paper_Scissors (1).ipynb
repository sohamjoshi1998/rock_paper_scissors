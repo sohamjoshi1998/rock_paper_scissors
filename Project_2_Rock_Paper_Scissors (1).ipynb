{
 "cells": [
  {
   "cell_type": "markdown",
   "id": "62a83ff6",
   "metadata": {},
   "source": [
    "## Project 2 :"
   ]
  },
  {
   "cell_type": "markdown",
   "id": "62506198",
   "metadata": {},
   "source": [
    "### Rock, Paper & Scissors"
   ]
  },
  {
   "cell_type": "code",
   "execution_count": 17,
   "id": "fca99aa5",
   "metadata": {},
   "outputs": [
    {
     "name": "stdout",
     "output_type": "stream",
     "text": [
      "Please choose your hand\n",
      "Rock/Paper/Scissors\n",
      "Paper\n",
      "\n",
      "\n",
      "Your hand -  Paper\n",
      "Computer hand -  Rock\n",
      "\n",
      "\n",
      "RESULTS:\n",
      "Congratulations!\n",
      "You won this round\n",
      "\n",
      "Wanna play again?(Y/N)N\n"
     ]
    }
   ],
   "source": [
    "again = \"Y\"\n",
    "while again==\"Y\":\n",
    "    user_hand = str(input(\"Please choose your hand\\nRock/Paper/Scissors\\n\"))\n",
    "    user_list = [\"Rock\",\"Paper\",\"Scissors\"]\n",
    "    if user_hand not in user_list:\n",
    "        print(\"Invalid hand\\n\")\n",
    "        user_hand = str(input(\"Please choose from the following\\n Rock/Paper/Scissors\\n\"))\n",
    "    print(\"\\n\\nYour hand - \",user_hand)\n",
    "    import random\n",
    "    computer_hand = random.choice(user_list)\n",
    "    print(\"Computer hand - \",computer_hand)\n",
    "    \n",
    "    print(\"\\n\\nRESULTS:\")\n",
    "    \n",
    "    if user_hand==computer_hand:\n",
    "        print(\"It's a tie!\")\n",
    "    elif user_hand==\"Rock\":\n",
    "        if computer_hand==\"Scissors\":\n",
    "            print(\"Congratulations!\\nYou won this round\\n\")\n",
    "        else:\n",
    "            print(\"OOOPS! You lost\\nThe computer won this round\\n\")\n",
    "    elif user_hand==\"Scissors\":\n",
    "        if computer_hand==\"Paper\":\n",
    "            print(\"Congratulations!\\nYou won this round\\n\")\n",
    "        else:\n",
    "            print(\"OOOPS! You lost\\nThe computer won this round\\n\")\n",
    "    else:\n",
    "        if computer_hand==\"Rock\":\n",
    "            print(\"Congratulations!\\nYou won this round\\n\")\n",
    "        else:\n",
    "            print(\"OOOPS! You lost\\nThe computer won this round\\n\\n\")\n",
    "    again=str(input(\"Wanna play again?(Y/N)\"))"
   ]
  }
 ],
 "metadata": {
  "kernelspec": {
   "display_name": "Python 3",
   "language": "python",
   "name": "python3"
  },
  "language_info": {
   "codemirror_mode": {
    "name": "ipython",
    "version": 3
   },
   "file_extension": ".py",
   "mimetype": "text/x-python",
   "name": "python",
   "nbconvert_exporter": "python",
   "pygments_lexer": "ipython3",
   "version": "3.8.8"
  }
 },
 "nbformat": 4,
 "nbformat_minor": 5
}
